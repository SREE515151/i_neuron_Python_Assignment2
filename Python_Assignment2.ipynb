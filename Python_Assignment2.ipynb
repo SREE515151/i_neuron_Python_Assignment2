{
  "metadata": {
    "language_info": {
      "name": ""
    },
    "kernelspec": {
      "name": "python",
      "display_name": "Python (Pyodide)",
      "language": "python"
    }
  },
  "nbformat_minor": 4,
  "nbformat": 4,
  "cells": [
    {
      "cell_type": "markdown",
      "source": "1. What are the two values of the Boolean data type? How do you write them?",
      "metadata": {}
    },
    {
      "cell_type": "code",
      "source": "A) The two values of the Boolean data type are True and False. They are written in Python as follows:\n\nTrue\nFalse\n\nBoolean values are used to represent the truth or falsehood of a statement.They can be used to control the flow of a program.",
      "metadata": {},
      "execution_count": null,
      "outputs": []
    },
    {
      "cell_type": "markdown",
      "source": "",
      "metadata": {}
    },
    {
      "cell_type": "markdown",
      "source": "2. What are the three different types of Boolean operators?",
      "metadata": {}
    },
    {
      "cell_type": "markdown",
      "source": "A)The three different types of Boolean operators in Python are:\n 1.and\n 2.or\n 3.not",
      "metadata": {}
    },
    {
      "cell_type": "markdown",
      "source": "3. Make a list of each Boolean operator's truth tables (i.e. every possible combination of Boolean values for the operator and what it evaluate )?",
      "metadata": {}
    },
    {
      "cell_type": "code",
      "source": "A) The following table shows the truth tables for the three Boolean operators:\n\n    | Operator | Operand 1 | Operand 2 | Result |\n\n 1. | and | True | True | True |\n    | and | True | False | False |\n    | and | False | True | False |\n    | and | False | False | False|\n    \n 2. | or | True | True | True |\n    | or | True | False | True |\n    | or | False | True | True |\n    | or | False | False | False|\n    \n 3. | not | True | False | True |\n    | not | False | True | False|",
      "metadata": {},
      "execution_count": null,
      "outputs": []
    },
    {
      "cell_type": "markdown",
      "source": "",
      "metadata": {}
    },
    {
      "cell_type": "markdown",
      "source": "4. What are the values of the following expressions?\n(5 > 4) and (3 == 5)\nnot (5 > 4)\n(5 > 4) or (3 == 5)\nnot ((5 > 4) or (3 == 5))\n(True and True) and (True == False)\n(not False) or (not True)",
      "metadata": {}
    },
    {
      "cell_type": "markdown",
      "source": "A) (5 > 4) and (3 == 5)              ====> False\nnot (5 > 4)                          ====> False\n(5 > 4) or (3 == 5)                  ====> True\nnot ((5 > 4) or (3 == 5))            ====> False\n(True and True) and (True == False)  ====> False\n(not False) or (not True)            ====> True",
      "metadata": {}
    },
    {
      "cell_type": "code",
      "source": "",
      "metadata": {},
      "execution_count": null,
      "outputs": []
    },
    {
      "cell_type": "markdown",
      "source": "5. What are the six comparison operators?",
      "metadata": {}
    },
    {
      "cell_type": "code",
      "source": "A) The six comparison operators in Python are:\n* == : checks if two objects are equal\n* != : checks if two objects are not equal\n*  > : checks if the left operand is greater than the right operand\n*  < : checks if the left operand is less than the right operand\n*  >= : checks if the left operand is greater than or equal to the right operand\n*  <= : checks if the left operand is less than or equal to the right operand",
      "metadata": {},
      "execution_count": null,
      "outputs": []
    },
    {
      "cell_type": "code",
      "source": "",
      "metadata": {},
      "execution_count": null,
      "outputs": []
    },
    {
      "cell_type": "markdown",
      "source": "6. How do you tell the difference between the equal to and assignment operators? Describe a condition and when you would use one.",
      "metadata": {}
    },
    {
      "cell_type": "markdown",
      "source": "A) The equal to operator ' == ' compares two values and returns True if they are equal, or False if they are not equal. The assignment operator ' = ' assigns a value to a variable.\nFor example, if code assigns the value 5 to the variable  'x':\nx = 5\nThe following code compares the values of 'x' and 'y' and returns True if they are equal, or False if they are not equal:\nx == y\nIn general, you should use the equal to operator when you want to compare two values, and you should use the assignment operator when you want to assign a value to a variable.",
      "metadata": {}
    },
    {
      "cell_type": "code",
      "source": "",
      "metadata": {},
      "execution_count": null,
      "outputs": []
    },
    {
      "cell_type": "markdown",
      "source": "7. Identify the three blocks in this code:\nspam = 0\nif spam == 10:\nprint('eggs')\nif spam > 5:\nprint('bacon')\nelse:\nprint('ham')\nprint('spam')\nprint('spam')",
      "metadata": {}
    },
    {
      "cell_type": "markdown",
      "source": "A) \nFirst block:\nspam = 0\nif spam == 10:\nprint('eggs')\n\nSecond block:\nif spam > 5:\nprint('bacon')\nelse:\nprint('ham')\n\nThird block:\nprint('spam')\nprint('spam')",
      "metadata": {}
    },
    {
      "cell_type": "code",
      "source": "",
      "metadata": {},
      "execution_count": null,
      "outputs": []
    },
    {
      "cell_type": "markdown",
      "source": "8. Write code that prints Hello if 1 is stored in spam, prints Howdy if 2 is stored in spam, and prints Greetings! if anything else is stored in spam.",
      "metadata": {}
    },
    {
      "cell_type": "code",
      "source": "A) spam = int(input(\"Enter the number: \"))\n   if spam == 1:\n       print(\"Hello\")\n   elif spam == 2:\n       print(\"Howdy\")\n   else:\n       print(\"Greetings!\")\n   ",
      "metadata": {},
      "execution_count": null,
      "outputs": []
    },
    {
      "cell_type": "code",
      "source": "",
      "metadata": {},
      "execution_count": null,
      "outputs": []
    },
    {
      "cell_type": "markdown",
      "source": "9. If your programme is stuck in an endless loop, what keys you’ll press?",
      "metadata": {}
    },
    {
      "cell_type": "markdown",
      "source": "A) Press 'Ctrl + C' keys at the same time. This will interrupt the program and bring you back to the command line.",
      "metadata": {}
    },
    {
      "cell_type": "code",
      "source": "",
      "metadata": {},
      "execution_count": null,
      "outputs": []
    },
    {
      "cell_type": "markdown",
      "source": "10. How can you tell the difference between break and continue?",
      "metadata": {}
    },
    {
      "cell_type": "markdown",
      "source": "A) \n1.The 'break' statement immediately exits the loop, regardless of whether or not the loop condition is met.\n2.The 'continue' statement skips the rest of the code in the current iteration of the loop and goes back to the top of the loop.",
      "metadata": {}
    },
    {
      "cell_type": "code",
      "source": "",
      "metadata": {},
      "execution_count": null,
      "outputs": []
    },
    {
      "cell_type": "markdown",
      "source": "11. In a for loop, what is the difference between range(10), range(0, 10), and range(0, 10, 1)?",
      "metadata": {}
    },
    {
      "cell_type": "markdown",
      "source": "A) The 'range()' function in Python creates a sequence of numbers:\na.The first argument to the 'range()' function is the number of numbers in the sequence. \nb.The second argument is the starting number of the sequence. \nc.The third argument is the step size of the sequence.\n\n1.The following code creates a sequence of numbers from 0 to 9:\nfor i in range(10):\n    print(i)\n\n2.The following code creates a sequence of numbers from 0 to 9, starting with 0:\nfor i in range(0, 10):\n    print(i)\n    \n3.The following code creates a sequence of numbers from 0 to 9, starting with 0 and incrementing by 1:\nfor i in range(0, 10, 1):\n    print(i)\n",
      "metadata": {}
    },
    {
      "cell_type": "code",
      "source": "",
      "metadata": {},
      "execution_count": null,
      "outputs": []
    },
    {
      "cell_type": "markdown",
      "source": "12. Write a short program that prints the numbers 1 to 10 using a for loop. Then write an equivalent program that prints the numbers 1 to 10 using a while loop.",
      "metadata": {}
    },
    {
      "cell_type": "code",
      "source": "A) \n# For loop\nfor i in range(1, 11):\n    print(i)\n    \n# While loop\ni = 1\nwhile i <= 10:\n    print(i)\n    i += 1",
      "metadata": {},
      "execution_count": null,
      "outputs": []
    },
    {
      "cell_type": "code",
      "source": "",
      "metadata": {},
      "execution_count": null,
      "outputs": []
    },
    {
      "cell_type": "markdown",
      "source": "13. If you had a function named bacon() inside a module named spam, how would you call it after importing spam?",
      "metadata": {}
    },
    {
      "cell_type": "code",
      "source": "A) #To call a function named 'bacon()' inside a module named 'spam', you would use the following syntax:\nspam.bacon()\n#This would call the 'bacon()' function inside the 'spam' module.",
      "metadata": {},
      "execution_count": null,
      "outputs": []
    },
    {
      "cell_type": "code",
      "source": "",
      "metadata": {},
      "execution_count": null,
      "outputs": []
    }
  ]
}